{
 "cells": [
  {
   "attachments": {},
   "cell_type": "markdown",
   "metadata": {},
   "source": [
    "# Proyecto 2: \n",
    "### Notebook #1: Análisis Exploratorio con tablas y gráficas de sus datos"
   ]
  },
  {
   "cell_type": "code",
   "execution_count": 9,
   "metadata": {},
   "outputs": [],
   "source": [
    "import pandas as pd\n",
    "import pandas as pd\n",
    "import plotly.graph_objects as go\n",
    "df = pd.read_csv(\"../data/dataset_proyecto_statistical_learning.csv\")"
   ]
  },
  {
   "attachments": {},
   "cell_type": "markdown",
   "metadata": {},
   "source": [
    "#### Se comenzara verificando estadíticas descriptivas de todas las columnas númericas\n",
    "1. Se indicara la cantidad de filas y columnas del dataset\n",
    "2. Se indicara la cantidad de datos faltantes si hay\n",
    "3. Se realizara un análisis descriptivo \n",
    "4. Se clasificara a las variables en continuas, categoricas o discretas\n",
    "5. Cuantificación de outliers"
   ]
  },
  {
   "cell_type": "code",
   "execution_count": 10,
   "metadata": {},
   "outputs": [
    {
     "data": {
      "text/html": [
       "<div>\n",
       "<style scoped>\n",
       "    .dataframe tbody tr th:only-of-type {\n",
       "        vertical-align: middle;\n",
       "    }\n",
       "\n",
       "    .dataframe tbody tr th {\n",
       "        vertical-align: top;\n",
       "    }\n",
       "\n",
       "    .dataframe thead th {\n",
       "        text-align: right;\n",
       "    }\n",
       "</style>\n",
       "<table border=\"1\" class=\"dataframe\">\n",
       "  <thead>\n",
       "    <tr style=\"text-align: right;\">\n",
       "      <th></th>\n",
       "      <th>date</th>\n",
       "      <th>phone</th>\n",
       "      <th>targetid</th>\n",
       "      <th>attribute</th>\n",
       "      <th>weekstartdate</th>\n",
       "      <th>gender</th>\n",
       "      <th>agerange</th>\n",
       "      <th>device</th>\n",
       "      <th>creative</th>\n",
       "      <th>placement</th>\n",
       "      <th>...</th>\n",
       "      <th>property</th>\n",
       "      <th>publisher</th>\n",
       "      <th>campaignname</th>\n",
       "      <th>state</th>\n",
       "      <th>utmsource</th>\n",
       "      <th>utmcampaign</th>\n",
       "      <th>campaigntype</th>\n",
       "      <th>unique_leads</th>\n",
       "      <th>unique_answers</th>\n",
       "      <th>age</th>\n",
       "    </tr>\n",
       "  </thead>\n",
       "  <tbody>\n",
       "    <tr>\n",
       "      <th>0</th>\n",
       "      <td>2023-07-01</td>\n",
       "      <td>2.055080e+09</td>\n",
       "      <td>645cdca06beec953cd8ceef8</td>\n",
       "      <td>Health (cancer)</td>\n",
       "      <td>2023-07-01</td>\n",
       "      <td>FEMALE</td>\n",
       "      <td>30 - 39</td>\n",
       "      <td>MOBILE</td>\n",
       "      <td>8984142e-3a16-4599-8f0a-41f897cf2d52</td>\n",
       "      <td>GetItFree - All Traffic - Primary</td>\n",
       "      <td>...</td>\n",
       "      <td>GetItFree</td>\n",
       "      <td>Tibrio</td>\n",
       "      <td>QVS - Mass Tort Talcum - Day</td>\n",
       "      <td>AL</td>\n",
       "      <td>1b09a870785a7b4419ac7e90508c12fc</td>\n",
       "      <td>35c07a2d9a9290106b73bed7bd207e80</td>\n",
       "      <td>Talcum</td>\n",
       "      <td>0</td>\n",
       "      <td>0</td>\n",
       "      <td>31.0</td>\n",
       "    </tr>\n",
       "    <tr>\n",
       "      <th>1</th>\n",
       "      <td>2023-07-01</td>\n",
       "      <td>4.142028e+09</td>\n",
       "      <td>645cdca06beec953cd8cef14</td>\n",
       "      <td>Health (cancer: Stage I)</td>\n",
       "      <td>2023-07-01</td>\n",
       "      <td>FEMALE</td>\n",
       "      <td>50 - 59</td>\n",
       "      <td>MOBILE</td>\n",
       "      <td>8984142e-3a16-4599-8f0a-41f897cf2d52</td>\n",
       "      <td>Workn Well - Primary Placement</td>\n",
       "      <td>...</td>\n",
       "      <td>Workn Well</td>\n",
       "      <td>Tibrio</td>\n",
       "      <td>QVS - Mass Tort Talcum - Day</td>\n",
       "      <td>WI</td>\n",
       "      <td>d7aefe10a495029cf52085a85426b415</td>\n",
       "      <td>31e18e575a569774b0060e67f86e9fdb</td>\n",
       "      <td>Talcum</td>\n",
       "      <td>0</td>\n",
       "      <td>0</td>\n",
       "      <td>53.0</td>\n",
       "    </tr>\n",
       "    <tr>\n",
       "      <th>2</th>\n",
       "      <td>2023-07-01</td>\n",
       "      <td>4.013788e+09</td>\n",
       "      <td>645cdeab6beec953cd8cef94</td>\n",
       "      <td>Health (cancer: Stage Iv)</td>\n",
       "      <td>2023-07-01</td>\n",
       "      <td>FEMALE</td>\n",
       "      <td>60 - 69</td>\n",
       "      <td>MOBILE</td>\n",
       "      <td>33253883-03db-421c-874f-2acb78459fb3</td>\n",
       "      <td>Workn Well - Primary Placement</td>\n",
       "      <td>...</td>\n",
       "      <td>Workn Well</td>\n",
       "      <td>Tibrio</td>\n",
       "      <td>QVS - Mass Tort Talcum - AH</td>\n",
       "      <td>MA</td>\n",
       "      <td>d7aefe10a495029cf52085a85426b415</td>\n",
       "      <td>31e18e575a569774b0060e67f86e9fdb</td>\n",
       "      <td>Talcum</td>\n",
       "      <td>0</td>\n",
       "      <td>0</td>\n",
       "      <td>61.0</td>\n",
       "    </tr>\n",
       "    <tr>\n",
       "      <th>3</th>\n",
       "      <td>2023-07-01</td>\n",
       "      <td>9.312543e+09</td>\n",
       "      <td>645cdeaa6beec953cd8cef84</td>\n",
       "      <td>Health (cancer: Stage Ii)</td>\n",
       "      <td>2023-07-01</td>\n",
       "      <td>FEMALE</td>\n",
       "      <td>50 - 59</td>\n",
       "      <td>MOBILE</td>\n",
       "      <td>33253883-03db-421c-874f-2acb78459fb3</td>\n",
       "      <td>Workn Well - Primary Placement</td>\n",
       "      <td>...</td>\n",
       "      <td>Workn Well</td>\n",
       "      <td>Tibrio</td>\n",
       "      <td>QVS - Mass Tort Talcum - AH</td>\n",
       "      <td>TN</td>\n",
       "      <td>4fa2c5c1c8766abe797da7106c0801b8</td>\n",
       "      <td>ecc7c7a42da7ea88566499d1dc280a7f</td>\n",
       "      <td>Talcum</td>\n",
       "      <td>0</td>\n",
       "      <td>0</td>\n",
       "      <td>59.0</td>\n",
       "    </tr>\n",
       "    <tr>\n",
       "      <th>4</th>\n",
       "      <td>2023-07-01</td>\n",
       "      <td>9.312739e+09</td>\n",
       "      <td>645cdeab6beec953cd8cef92</td>\n",
       "      <td>Health (cancer: Stage Iii)</td>\n",
       "      <td>2023-07-01</td>\n",
       "      <td>FEMALE</td>\n",
       "      <td>60 - 69</td>\n",
       "      <td>MOBILE</td>\n",
       "      <td>33253883-03db-421c-874f-2acb78459fb3</td>\n",
       "      <td>Workn Well - Primary Placement</td>\n",
       "      <td>...</td>\n",
       "      <td>Workn Well</td>\n",
       "      <td>Tibrio</td>\n",
       "      <td>QVS - Mass Tort Talcum - AH</td>\n",
       "      <td>TN</td>\n",
       "      <td>4fa2c5c1c8766abe797da7106c0801b8</td>\n",
       "      <td>ecc7c7a42da7ea88566499d1dc280a7f</td>\n",
       "      <td>Talcum</td>\n",
       "      <td>0</td>\n",
       "      <td>0</td>\n",
       "      <td>68.0</td>\n",
       "    </tr>\n",
       "  </tbody>\n",
       "</table>\n",
       "<p>5 rows × 32 columns</p>\n",
       "</div>"
      ],
      "text/plain": [
       "         date         phone                  targetid  \\\n",
       "0  2023-07-01  2.055080e+09  645cdca06beec953cd8ceef8   \n",
       "1  2023-07-01  4.142028e+09  645cdca06beec953cd8cef14   \n",
       "2  2023-07-01  4.013788e+09  645cdeab6beec953cd8cef94   \n",
       "3  2023-07-01  9.312543e+09  645cdeaa6beec953cd8cef84   \n",
       "4  2023-07-01  9.312739e+09  645cdeab6beec953cd8cef92   \n",
       "\n",
       "                    attribute weekstartdate  gender agerange  device  \\\n",
       "0             Health (cancer)    2023-07-01  FEMALE  30 - 39  MOBILE   \n",
       "1    Health (cancer: Stage I)    2023-07-01  FEMALE  50 - 59  MOBILE   \n",
       "2   Health (cancer: Stage Iv)    2023-07-01  FEMALE  60 - 69  MOBILE   \n",
       "3   Health (cancer: Stage Ii)    2023-07-01  FEMALE  50 - 59  MOBILE   \n",
       "4  Health (cancer: Stage Iii)    2023-07-01  FEMALE  60 - 69  MOBILE   \n",
       "\n",
       "                               creative                          placement  \\\n",
       "0  8984142e-3a16-4599-8f0a-41f897cf2d52  GetItFree - All Traffic - Primary   \n",
       "1  8984142e-3a16-4599-8f0a-41f897cf2d52     Workn Well - Primary Placement   \n",
       "2  33253883-03db-421c-874f-2acb78459fb3     Workn Well - Primary Placement   \n",
       "3  33253883-03db-421c-874f-2acb78459fb3     Workn Well - Primary Placement   \n",
       "4  33253883-03db-421c-874f-2acb78459fb3     Workn Well - Primary Placement   \n",
       "\n",
       "   ...    property  publisher                  campaignname  state  \\\n",
       "0  ...   GetItFree     Tibrio  QVS - Mass Tort Talcum - Day     AL   \n",
       "1  ...  Workn Well     Tibrio  QVS - Mass Tort Talcum - Day     WI   \n",
       "2  ...  Workn Well     Tibrio   QVS - Mass Tort Talcum - AH     MA   \n",
       "3  ...  Workn Well     Tibrio   QVS - Mass Tort Talcum - AH     TN   \n",
       "4  ...  Workn Well     Tibrio   QVS - Mass Tort Talcum - AH     TN   \n",
       "\n",
       "                          utmsource                       utmcampaign  \\\n",
       "0  1b09a870785a7b4419ac7e90508c12fc  35c07a2d9a9290106b73bed7bd207e80   \n",
       "1  d7aefe10a495029cf52085a85426b415  31e18e575a569774b0060e67f86e9fdb   \n",
       "2  d7aefe10a495029cf52085a85426b415  31e18e575a569774b0060e67f86e9fdb   \n",
       "3  4fa2c5c1c8766abe797da7106c0801b8  ecc7c7a42da7ea88566499d1dc280a7f   \n",
       "4  4fa2c5c1c8766abe797da7106c0801b8  ecc7c7a42da7ea88566499d1dc280a7f   \n",
       "\n",
       "   campaigntype  unique_leads  unique_answers   age  \n",
       "0        Talcum             0               0  31.0  \n",
       "1        Talcum             0               0  53.0  \n",
       "2        Talcum             0               0  61.0  \n",
       "3        Talcum             0               0  59.0  \n",
       "4        Talcum             0               0  68.0  \n",
       "\n",
       "[5 rows x 32 columns]"
      ]
     },
     "execution_count": 10,
     "metadata": {},
     "output_type": "execute_result"
    }
   ],
   "source": [
    "# Visualización de las primeras filas del dataset, para una visualización rapida del contenido\n",
    "df.head()"
   ]
  },
  {
   "cell_type": "code",
   "execution_count": 11,
   "metadata": {},
   "outputs": [
    {
     "name": "stdout",
     "output_type": "stream",
     "text": [
      "El dataframe tiene 60805 filas.\n",
      "El dataframe tiene 32 columnas.\n"
     ]
    }
   ],
   "source": [
    "#Conteo de cuantas filas y columnas tiene el dataset\n",
    "num_filas = df.shape[0]\n",
    "num_columnas = df.shape[1]\n",
    "print(f\"El dataframe tiene {num_filas} filas.\")\n",
    "print(f\"El dataframe tiene {num_columnas} columnas.\")"
   ]
  },
  {
   "cell_type": "code",
   "execution_count": 12,
   "metadata": {},
   "outputs": [
    {
     "name": "stdout",
     "output_type": "stream",
     "text": [
      "<class 'pandas.core.frame.DataFrame'>\n",
      "RangeIndex: 60805 entries, 0 to 60804\n",
      "Data columns (total 32 columns):\n",
      " #   Column          Non-Null Count  Dtype  \n",
      "---  ------          --------------  -----  \n",
      " 0   date            60805 non-null  object \n",
      " 1   phone           60607 non-null  float64\n",
      " 2   targetid        60805 non-null  object \n",
      " 3   attribute       60805 non-null  object \n",
      " 4   weekstartdate   60805 non-null  object \n",
      " 5   gender          60607 non-null  object \n",
      " 6   agerange        60683 non-null  object \n",
      " 7   device          60607 non-null  object \n",
      " 8   creative        60683 non-null  object \n",
      " 9   placement       60683 non-null  object \n",
      " 10  deviceos        60607 non-null  object \n",
      " 11  records         60805 non-null  int64  \n",
      " 12  calls           60805 non-null  int64  \n",
      " 13  contacts        60805 non-null  int64  \n",
      " 14  humananswers    60805 non-null  int64  \n",
      " 15  voicemail       60805 non-null  int64  \n",
      " 16  answered        60805 non-null  int64  \n",
      " 17  leads           60805 non-null  int64  \n",
      " 18  billable        60805 non-null  int64  \n",
      " 19  revenue         60805 non-null  float64\n",
      " 20  marketingcost   60805 non-null  float64\n",
      " 21  totalcost       60805 non-null  float64\n",
      " 22  property        60683 non-null  object \n",
      " 23  publisher       57635 non-null  object \n",
      " 24  campaignname    60805 non-null  object \n",
      " 25  state           60607 non-null  object \n",
      " 26  utmsource       60251 non-null  object \n",
      " 27  utmcampaign     37117 non-null  object \n",
      " 28  campaigntype    60805 non-null  object \n",
      " 29  unique_leads    60805 non-null  int64  \n",
      " 30  unique_answers  60805 non-null  int64  \n",
      " 31  age             60763 non-null  float64\n",
      "dtypes: float64(5), int64(10), object(17)\n",
      "memory usage: 14.8+ MB\n",
      "None\n"
     ]
    }
   ],
   "source": [
    "# Información sobre tipos de datos y valores nulos\n",
    "print(df.info())"
   ]
  },
  {
   "cell_type": "code",
   "execution_count": 13,
   "metadata": {},
   "outputs": [
    {
     "name": "stdout",
     "output_type": "stream",
     "text": [
      "Valores faltantes por columna:\n",
      "date                  0\n",
      "phone               198\n",
      "targetid              0\n",
      "attribute             0\n",
      "weekstartdate         0\n",
      "gender              198\n",
      "agerange            122\n",
      "device              198\n",
      "creative            122\n",
      "placement           122\n",
      "deviceos            198\n",
      "records               0\n",
      "calls                 0\n",
      "contacts              0\n",
      "humananswers          0\n",
      "voicemail             0\n",
      "answered              0\n",
      "leads                 0\n",
      "billable              0\n",
      "revenue               0\n",
      "marketingcost         0\n",
      "totalcost             0\n",
      "property            122\n",
      "publisher          3170\n",
      "campaignname          0\n",
      "state               198\n",
      "utmsource           554\n",
      "utmcampaign       23688\n",
      "campaigntype          0\n",
      "unique_leads          0\n",
      "unique_answers        0\n",
      "age                  42\n",
      "dtype: int64\n"
     ]
    }
   ],
   "source": [
    "#Número de valores faltantes o nan por columna dentro del dataset\n",
    "missing_values = df.isnull().sum()\n",
    "print(\"Valores faltantes por columna:\")\n",
    "print(missing_values)"
   ]
  },
  {
   "cell_type": "code",
   "execution_count": 14,
   "metadata": {},
   "outputs": [
    {
     "data": {
      "text/html": [
       "<div>\n",
       "<style scoped>\n",
       "    .dataframe tbody tr th:only-of-type {\n",
       "        vertical-align: middle;\n",
       "    }\n",
       "\n",
       "    .dataframe tbody tr th {\n",
       "        vertical-align: top;\n",
       "    }\n",
       "\n",
       "    .dataframe thead th {\n",
       "        text-align: right;\n",
       "    }\n",
       "</style>\n",
       "<table border=\"1\" class=\"dataframe\">\n",
       "  <thead>\n",
       "    <tr style=\"text-align: right;\">\n",
       "      <th></th>\n",
       "      <th>phone</th>\n",
       "      <th>records</th>\n",
       "      <th>calls</th>\n",
       "      <th>contacts</th>\n",
       "      <th>humananswers</th>\n",
       "      <th>voicemail</th>\n",
       "      <th>answered</th>\n",
       "      <th>leads</th>\n",
       "      <th>billable</th>\n",
       "      <th>revenue</th>\n",
       "      <th>marketingcost</th>\n",
       "      <th>totalcost</th>\n",
       "      <th>unique_leads</th>\n",
       "      <th>unique_answers</th>\n",
       "      <th>age</th>\n",
       "    </tr>\n",
       "  </thead>\n",
       "  <tbody>\n",
       "    <tr>\n",
       "      <th>count</th>\n",
       "      <td>6.060700e+04</td>\n",
       "      <td>60805.0</td>\n",
       "      <td>60805.00</td>\n",
       "      <td>60805.00</td>\n",
       "      <td>60805.00</td>\n",
       "      <td>60805.00</td>\n",
       "      <td>60805.00</td>\n",
       "      <td>60805.00</td>\n",
       "      <td>60805.00</td>\n",
       "      <td>60805.00</td>\n",
       "      <td>60805.00</td>\n",
       "      <td>60805.00</td>\n",
       "      <td>60805.00</td>\n",
       "      <td>60805.00</td>\n",
       "      <td>60763.00</td>\n",
       "    </tr>\n",
       "    <tr>\n",
       "      <th>mean</th>\n",
       "      <td>5.831113e+09</td>\n",
       "      <td>1.0</td>\n",
       "      <td>30.95</td>\n",
       "      <td>1.63</td>\n",
       "      <td>1.26</td>\n",
       "      <td>21.84</td>\n",
       "      <td>0.54</td>\n",
       "      <td>0.04</td>\n",
       "      <td>0.01</td>\n",
       "      <td>2.68</td>\n",
       "      <td>0.44</td>\n",
       "      <td>0.53</td>\n",
       "      <td>0.03</td>\n",
       "      <td>0.54</td>\n",
       "      <td>60.64</td>\n",
       "    </tr>\n",
       "    <tr>\n",
       "      <th>std</th>\n",
       "      <td>2.394421e+09</td>\n",
       "      <td>0.0</td>\n",
       "      <td>25.72</td>\n",
       "      <td>2.17</td>\n",
       "      <td>1.70</td>\n",
       "      <td>24.50</td>\n",
       "      <td>0.50</td>\n",
       "      <td>0.23</td>\n",
       "      <td>0.10</td>\n",
       "      <td>26.80</td>\n",
       "      <td>0.57</td>\n",
       "      <td>0.60</td>\n",
       "      <td>0.18</td>\n",
       "      <td>0.50</td>\n",
       "      <td>15.11</td>\n",
       "    </tr>\n",
       "    <tr>\n",
       "      <th>min</th>\n",
       "      <td>2.012124e+09</td>\n",
       "      <td>1.0</td>\n",
       "      <td>0.00</td>\n",
       "      <td>0.00</td>\n",
       "      <td>0.00</td>\n",
       "      <td>0.00</td>\n",
       "      <td>0.00</td>\n",
       "      <td>0.00</td>\n",
       "      <td>0.00</td>\n",
       "      <td>0.00</td>\n",
       "      <td>0.00</td>\n",
       "      <td>0.00</td>\n",
       "      <td>0.00</td>\n",
       "      <td>0.00</td>\n",
       "      <td>18.00</td>\n",
       "    </tr>\n",
       "    <tr>\n",
       "      <th>0%</th>\n",
       "      <td>2.012124e+09</td>\n",
       "      <td>1.0</td>\n",
       "      <td>0.00</td>\n",
       "      <td>0.00</td>\n",
       "      <td>0.00</td>\n",
       "      <td>0.00</td>\n",
       "      <td>0.00</td>\n",
       "      <td>0.00</td>\n",
       "      <td>0.00</td>\n",
       "      <td>0.00</td>\n",
       "      <td>0.00</td>\n",
       "      <td>0.00</td>\n",
       "      <td>0.00</td>\n",
       "      <td>0.00</td>\n",
       "      <td>18.00</td>\n",
       "    </tr>\n",
       "    <tr>\n",
       "      <th>10%</th>\n",
       "      <td>2.528134e+09</td>\n",
       "      <td>1.0</td>\n",
       "      <td>5.00</td>\n",
       "      <td>0.00</td>\n",
       "      <td>0.00</td>\n",
       "      <td>0.00</td>\n",
       "      <td>0.00</td>\n",
       "      <td>0.00</td>\n",
       "      <td>0.00</td>\n",
       "      <td>0.00</td>\n",
       "      <td>0.00</td>\n",
       "      <td>0.00</td>\n",
       "      <td>0.00</td>\n",
       "      <td>0.00</td>\n",
       "      <td>38.00</td>\n",
       "    </tr>\n",
       "    <tr>\n",
       "      <th>20%</th>\n",
       "      <td>3.193893e+09</td>\n",
       "      <td>1.0</td>\n",
       "      <td>9.00</td>\n",
       "      <td>0.00</td>\n",
       "      <td>0.00</td>\n",
       "      <td>2.00</td>\n",
       "      <td>0.00</td>\n",
       "      <td>0.00</td>\n",
       "      <td>0.00</td>\n",
       "      <td>0.00</td>\n",
       "      <td>0.26</td>\n",
       "      <td>0.34</td>\n",
       "      <td>0.00</td>\n",
       "      <td>0.00</td>\n",
       "      <td>50.00</td>\n",
       "    </tr>\n",
       "    <tr>\n",
       "      <th>30%</th>\n",
       "      <td>4.084568e+09</td>\n",
       "      <td>1.0</td>\n",
       "      <td>13.00</td>\n",
       "      <td>0.00</td>\n",
       "      <td>0.00</td>\n",
       "      <td>5.00</td>\n",
       "      <td>0.00</td>\n",
       "      <td>0.00</td>\n",
       "      <td>0.00</td>\n",
       "      <td>0.00</td>\n",
       "      <td>0.36</td>\n",
       "      <td>0.41</td>\n",
       "      <td>0.00</td>\n",
       "      <td>0.00</td>\n",
       "      <td>56.00</td>\n",
       "    </tr>\n",
       "    <tr>\n",
       "      <th>40%</th>\n",
       "      <td>5.052528e+09</td>\n",
       "      <td>1.0</td>\n",
       "      <td>19.00</td>\n",
       "      <td>0.00</td>\n",
       "      <td>0.00</td>\n",
       "      <td>8.00</td>\n",
       "      <td>0.00</td>\n",
       "      <td>0.00</td>\n",
       "      <td>0.00</td>\n",
       "      <td>0.00</td>\n",
       "      <td>0.41</td>\n",
       "      <td>0.46</td>\n",
       "      <td>0.00</td>\n",
       "      <td>0.00</td>\n",
       "      <td>60.00</td>\n",
       "    </tr>\n",
       "    <tr>\n",
       "      <th>50%</th>\n",
       "      <td>6.013032e+09</td>\n",
       "      <td>1.0</td>\n",
       "      <td>26.00</td>\n",
       "      <td>1.00</td>\n",
       "      <td>1.00</td>\n",
       "      <td>13.00</td>\n",
       "      <td>1.00</td>\n",
       "      <td>0.00</td>\n",
       "      <td>0.00</td>\n",
       "      <td>0.00</td>\n",
       "      <td>0.41</td>\n",
       "      <td>0.51</td>\n",
       "      <td>0.00</td>\n",
       "      <td>1.00</td>\n",
       "      <td>63.00</td>\n",
       "    </tr>\n",
       "    <tr>\n",
       "      <th>60%</th>\n",
       "      <td>7.013208e+09</td>\n",
       "      <td>1.0</td>\n",
       "      <td>34.00</td>\n",
       "      <td>1.00</td>\n",
       "      <td>1.00</td>\n",
       "      <td>20.00</td>\n",
       "      <td>1.00</td>\n",
       "      <td>0.00</td>\n",
       "      <td>0.00</td>\n",
       "      <td>0.00</td>\n",
       "      <td>0.46</td>\n",
       "      <td>0.54</td>\n",
       "      <td>0.00</td>\n",
       "      <td>1.00</td>\n",
       "      <td>66.00</td>\n",
       "    </tr>\n",
       "    <tr>\n",
       "      <th>70%</th>\n",
       "      <td>7.653000e+09</td>\n",
       "      <td>1.0</td>\n",
       "      <td>39.00</td>\n",
       "      <td>2.00</td>\n",
       "      <td>2.00</td>\n",
       "      <td>29.00</td>\n",
       "      <td>1.00</td>\n",
       "      <td>0.00</td>\n",
       "      <td>0.00</td>\n",
       "      <td>0.00</td>\n",
       "      <td>0.49</td>\n",
       "      <td>0.62</td>\n",
       "      <td>0.00</td>\n",
       "      <td>1.00</td>\n",
       "      <td>69.00</td>\n",
       "    </tr>\n",
       "    <tr>\n",
       "      <th>80%</th>\n",
       "      <td>8.317596e+09</td>\n",
       "      <td>1.0</td>\n",
       "      <td>48.00</td>\n",
       "      <td>3.00</td>\n",
       "      <td>2.00</td>\n",
       "      <td>38.00</td>\n",
       "      <td>1.00</td>\n",
       "      <td>0.00</td>\n",
       "      <td>0.00</td>\n",
       "      <td>0.00</td>\n",
       "      <td>0.53</td>\n",
       "      <td>0.71</td>\n",
       "      <td>0.00</td>\n",
       "      <td>1.00</td>\n",
       "      <td>73.00</td>\n",
       "    </tr>\n",
       "    <tr>\n",
       "      <th>90%</th>\n",
       "      <td>9.106509e+09</td>\n",
       "      <td>1.0</td>\n",
       "      <td>65.00</td>\n",
       "      <td>4.00</td>\n",
       "      <td>3.00</td>\n",
       "      <td>55.00</td>\n",
       "      <td>1.00</td>\n",
       "      <td>0.00</td>\n",
       "      <td>0.00</td>\n",
       "      <td>0.00</td>\n",
       "      <td>0.71</td>\n",
       "      <td>0.90</td>\n",
       "      <td>0.00</td>\n",
       "      <td>1.00</td>\n",
       "      <td>77.00</td>\n",
       "    </tr>\n",
       "    <tr>\n",
       "      <th>100%</th>\n",
       "      <td>9.899981e+09</td>\n",
       "      <td>1.0</td>\n",
       "      <td>314.00</td>\n",
       "      <td>35.00</td>\n",
       "      <td>27.00</td>\n",
       "      <td>311.00</td>\n",
       "      <td>1.00</td>\n",
       "      <td>3.00</td>\n",
       "      <td>2.00</td>\n",
       "      <td>650.00</td>\n",
       "      <td>61.00</td>\n",
       "      <td>61.00</td>\n",
       "      <td>1.00</td>\n",
       "      <td>1.00</td>\n",
       "      <td>123.00</td>\n",
       "    </tr>\n",
       "    <tr>\n",
       "      <th>max</th>\n",
       "      <td>9.899981e+09</td>\n",
       "      <td>1.0</td>\n",
       "      <td>314.00</td>\n",
       "      <td>35.00</td>\n",
       "      <td>27.00</td>\n",
       "      <td>311.00</td>\n",
       "      <td>1.00</td>\n",
       "      <td>3.00</td>\n",
       "      <td>2.00</td>\n",
       "      <td>650.00</td>\n",
       "      <td>61.00</td>\n",
       "      <td>61.00</td>\n",
       "      <td>1.00</td>\n",
       "      <td>1.00</td>\n",
       "      <td>123.00</td>\n",
       "    </tr>\n",
       "  </tbody>\n",
       "</table>\n",
       "</div>"
      ],
      "text/plain": [
       "              phone  records     calls  contacts  humananswers  voicemail  \\\n",
       "count  6.060700e+04  60805.0  60805.00  60805.00      60805.00   60805.00   \n",
       "mean   5.831113e+09      1.0     30.95      1.63          1.26      21.84   \n",
       "std    2.394421e+09      0.0     25.72      2.17          1.70      24.50   \n",
       "min    2.012124e+09      1.0      0.00      0.00          0.00       0.00   \n",
       "0%     2.012124e+09      1.0      0.00      0.00          0.00       0.00   \n",
       "10%    2.528134e+09      1.0      5.00      0.00          0.00       0.00   \n",
       "20%    3.193893e+09      1.0      9.00      0.00          0.00       2.00   \n",
       "30%    4.084568e+09      1.0     13.00      0.00          0.00       5.00   \n",
       "40%    5.052528e+09      1.0     19.00      0.00          0.00       8.00   \n",
       "50%    6.013032e+09      1.0     26.00      1.00          1.00      13.00   \n",
       "60%    7.013208e+09      1.0     34.00      1.00          1.00      20.00   \n",
       "70%    7.653000e+09      1.0     39.00      2.00          2.00      29.00   \n",
       "80%    8.317596e+09      1.0     48.00      3.00          2.00      38.00   \n",
       "90%    9.106509e+09      1.0     65.00      4.00          3.00      55.00   \n",
       "100%   9.899981e+09      1.0    314.00     35.00         27.00     311.00   \n",
       "max    9.899981e+09      1.0    314.00     35.00         27.00     311.00   \n",
       "\n",
       "       answered     leads  billable   revenue  marketingcost  totalcost  \\\n",
       "count  60805.00  60805.00  60805.00  60805.00       60805.00   60805.00   \n",
       "mean       0.54      0.04      0.01      2.68           0.44       0.53   \n",
       "std        0.50      0.23      0.10     26.80           0.57       0.60   \n",
       "min        0.00      0.00      0.00      0.00           0.00       0.00   \n",
       "0%         0.00      0.00      0.00      0.00           0.00       0.00   \n",
       "10%        0.00      0.00      0.00      0.00           0.00       0.00   \n",
       "20%        0.00      0.00      0.00      0.00           0.26       0.34   \n",
       "30%        0.00      0.00      0.00      0.00           0.36       0.41   \n",
       "40%        0.00      0.00      0.00      0.00           0.41       0.46   \n",
       "50%        1.00      0.00      0.00      0.00           0.41       0.51   \n",
       "60%        1.00      0.00      0.00      0.00           0.46       0.54   \n",
       "70%        1.00      0.00      0.00      0.00           0.49       0.62   \n",
       "80%        1.00      0.00      0.00      0.00           0.53       0.71   \n",
       "90%        1.00      0.00      0.00      0.00           0.71       0.90   \n",
       "100%       1.00      3.00      2.00    650.00          61.00      61.00   \n",
       "max        1.00      3.00      2.00    650.00          61.00      61.00   \n",
       "\n",
       "       unique_leads  unique_answers       age  \n",
       "count      60805.00        60805.00  60763.00  \n",
       "mean           0.03            0.54     60.64  \n",
       "std            0.18            0.50     15.11  \n",
       "min            0.00            0.00     18.00  \n",
       "0%             0.00            0.00     18.00  \n",
       "10%            0.00            0.00     38.00  \n",
       "20%            0.00            0.00     50.00  \n",
       "30%            0.00            0.00     56.00  \n",
       "40%            0.00            0.00     60.00  \n",
       "50%            0.00            1.00     63.00  \n",
       "60%            0.00            1.00     66.00  \n",
       "70%            0.00            1.00     69.00  \n",
       "80%            0.00            1.00     73.00  \n",
       "90%            0.00            1.00     77.00  \n",
       "100%           1.00            1.00    123.00  \n",
       "max            1.00            1.00    123.00  "
      ]
     },
     "execution_count": 14,
     "metadata": {},
     "output_type": "execute_result"
    }
   ],
   "source": [
    "#Análisis descriptico estadistico, para cada una de las variables categoricas, del dataset\n",
    "percentiles = [i/100 for i in range(0, 101, 10)]\n",
    "description = df.describe(percentiles=percentiles).round(2)\n",
    "description"
   ]
  },
  {
   "cell_type": "code",
   "execution_count": 15,
   "metadata": {},
   "outputs": [
    {
     "name": "stdout",
     "output_type": "stream",
     "text": [
      "Columnas Continuas:\n",
      "phone\n",
      "calls\n",
      "voicemail\n",
      "marketingcost\n",
      "totalcost\n",
      "age\n",
      "\n",
      "Columnas Discretas:\n",
      "records\n",
      "contacts\n",
      "humananswers\n",
      "answered\n",
      "leads\n",
      "billable\n",
      "revenue\n",
      "unique_leads\n",
      "unique_answers\n",
      "\n",
      "Columnas Categóricas:\n",
      "date\n",
      "targetid\n",
      "attribute\n",
      "weekstartdate\n",
      "gender\n",
      "agerange\n",
      "device\n",
      "creative\n",
      "placement\n",
      "deviceos\n",
      "property\n",
      "publisher\n",
      "campaignname\n",
      "state\n",
      "utmsource\n",
      "utmcampaign\n",
      "campaigntype\n"
     ]
    }
   ],
   "source": [
    "#Clasificación de las variables en continuas, discretas y categoricas\n",
    "def getColumnTypes(dataset):\n",
    "    continuas = []\n",
    "    categoricas = []\n",
    "    discretas = []\n",
    "\n",
    "    for col in dataset.columns:\n",
    "        if dataset[col].dtype == 'int64' or dataset[col].dtype == 'float64':\n",
    "            if dataset[col].nunique() > 30: \n",
    "                continuas.append(col)\n",
    "            else:\n",
    "                discretas.append(col)\n",
    "        else:\n",
    "            categoricas.append(col)\n",
    "\n",
    "    return continuas, discretas, categoricas\n",
    "\n",
    "continuas, discretas, categoricas = getColumnTypes(df)\n",
    "\n",
    "print(\"Columnas Continuas:\")\n",
    "for col in continuas:\n",
    "    print(col)\n",
    "\n",
    "print(\"\\nColumnas Discretas:\")\n",
    "for col in discretas:\n",
    "    print(col)\n",
    "\n",
    "print(\"\\nColumnas Categóricas:\")\n",
    "for col in categoricas:\n",
    "    print(col)\n"
   ]
  },
  {
   "cell_type": "code",
   "execution_count": 26,
   "metadata": {},
   "outputs": [
    {
     "name": "stdout",
     "output_type": "stream",
     "text": [
      "Error al procesar la columna date: name 'np' is not defined\n",
      "Outliers en phone: 0\n",
      "Error al procesar la columna targetid: name 'np' is not defined\n"
     ]
    },
    {
     "name": "stdout",
     "output_type": "stream",
     "text": [
      "Error al procesar la columna attribute: name 'np' is not defined\n",
      "Error al procesar la columna weekstartdate: name 'np' is not defined\n",
      "Error al procesar la columna gender: name 'np' is not defined\n",
      "Error al procesar la columna agerange: name 'np' is not defined\n",
      "Error al procesar la columna device: name 'np' is not defined\n",
      "Error al procesar la columna creative: name 'np' is not defined\n",
      "Error al procesar la columna placement: name 'np' is not defined\n",
      "Error al procesar la columna deviceos: name 'np' is not defined\n",
      "Outliers en records: 0\n",
      "Outliers en calls: 1651\n",
      "Outliers en contacts: 3599\n",
      "Outliers en humananswers: 1670\n",
      "Outliers en voicemail: 2535\n",
      "Outliers en answered: 0\n",
      "Outliers en leads: 2018\n",
      "Outliers en billable: 630\n",
      "Outliers en revenue: 630\n",
      "Outliers en marketingcost: 10249\n",
      "Outliers en totalcost: 3273\n",
      "Error al procesar la columna property: name 'np' is not defined\n",
      "Error al procesar la columna publisher: name 'np' is not defined\n",
      "Error al procesar la columna campaignname: name 'np' is not defined\n",
      "Error al procesar la columna state: name 'np' is not defined\n",
      "Error al procesar la columna utmsource: name 'np' is not defined\n",
      "Error al procesar la columna utmcampaign: name 'np' is not defined\n",
      "Error al procesar la columna campaigntype: name 'np' is not defined\n",
      "Outliers en unique_leads: 2018\n",
      "Outliers en unique_answers: 0\n",
      "Outliers en age: 2797\n"
     ]
    }
   ],
   "source": [
    "#Se convirtieron las variables categoricas en númericas para cuantificar outliers y cisualizar cuantos outlier hay por cada variable\n",
    "from sklearn.preprocessing import LabelEncoder\n",
    "le = LabelEncoder()\n",
    "def calculate_outliers(df):\n",
    "    le = LabelEncoder()\n",
    "    for col in df:\n",
    "        if pd.api.types.is_numeric_dtype(df[col]):\n",
    "            q1 = df[col].quantile(0.25)\n",
    "            q3 = df[col].quantile(0.75)\n",
    "            iqr = q3 - q1\n",
    "            lower_bound = q1 - 1.5 * iqr\n",
    "            upper_bound = q3 + 1.5 * iqr\n",
    "            print(f'Outliers en {col}: {df[col][(df[col] < lower_bound) | (df[col] > upper_bound)].count()}')\n",
    "        else:\n",
    "            try:\n",
    "                df_temp = df[col].fillna('Unknown').astype(str)\n",
    "                df_temp_encoded = le.fit_transform(df_temp)\n",
    "                q1 = np.percentile(df_temp_encoded, 25)\n",
    "                q3 = np.percentile(df_temp_encoded, 75)\n",
    "                iqr = q3 - q1\n",
    "                lower_bound = q1 - 1.5 * iqr\n",
    "                upper_bound = q3 + 1.5 * iqr\n",
    "                outliers = len([x for x in df_temp_encoded if x < lower_bound or x > upper_bound])\n",
    "                print(f'Outliers en {col}: {outliers}')\n",
    "            except Exception as e:\n",
    "                print(f'Error al procesar la columna {col}: {str(e)}')\n",
    "\n",
    "calculate_outliers(df)\n"
   ]
  },
  {
   "cell_type": "code",
   "execution_count": null,
   "metadata": {},
   "outputs": [
    {
     "name": "stdout",
     "output_type": "stream",
     "text": [
      "\n",
      "Categorías atípicas en date:\n",
      "\n",
      "Categorías atípicas en targetid:\n",
      "645cdca06beec953cd8cef1c: 2412 (es un valor atípico de acuerdo a la regla del IQR)\n",
      "645cdeaa6beec953cd8cef8a: 1695 (es un valor atípico de acuerdo a la regla del IQR)\n",
      "645cdca06beec953cd8cef1e: 1458 (es un valor atípico de acuerdo a la regla del IQR)\n",
      "63e2c0d6b783ec15a1f1d307: 1350 (es un valor atípico de acuerdo a la regla del IQR)\n",
      "645cdca06beec953cd8cef12: 1349 (es un valor atípico de acuerdo a la regla del IQR)\n",
      "645e5b7c08d9b12c28db58eb: 1270 (es un valor atípico de acuerdo a la regla del IQR)\n",
      "645cdeab6beec953cd8cef8c: 1221 (es un valor atípico de acuerdo a la regla del IQR)\n",
      "64010c322c7988556cc45ef7: 1218 (es un valor atípico de acuerdo a la regla del IQR)\n",
      "64010716c6c06d234d57bab6: 1172 (es un valor atípico de acuerdo a la regla del IQR)\n",
      "63e2c0d5b783ec15a1f1d2fb: 1149 (es un valor atípico de acuerdo a la regla del IQR)\n",
      "645e5a53d7931f76ea74d82d: 1116 (es un valor atípico de acuerdo a la regla del IQR)\n",
      "645cdca06beec953cd8cef10: 1093 (es un valor atípico de acuerdo a la regla del IQR)\n",
      "63e2c0d6b783ec15a1f1d30b: 958 (es un valor atípico de acuerdo a la regla del IQR)\n",
      "645cdca16beec953cd8cef2a: 912 (es un valor atípico de acuerdo a la regla del IQR)\n",
      "645cdeaa6beec953cd8cef7e: 912 (es un valor atípico de acuerdo a la regla del IQR)\n",
      "63e2ef3ed1414a450236cf96: 899 (es un valor atípico de acuerdo a la regla del IQR)\n",
      "645cdeaa6beec953cd8cef80: 880 (es un valor atípico de acuerdo a la regla del IQR)\n",
      "645cdca06beec953cd8cef28: 843 (es un valor atípico de acuerdo a la regla del IQR)\n",
      "64010c322c7988556cc45efd: 805 (es un valor atípico de acuerdo a la regla del IQR)\n",
      "645cdeaa6beec953cd8cef72: 805 (es un valor atípico de acuerdo a la regla del IQR)\n",
      "645e5b7c08d9b12c28db58ef: 800 (es un valor atípico de acuerdo a la regla del IQR)\n",
      "645e5a53d7931f76ea74d831: 783 (es un valor atípico de acuerdo a la regla del IQR)\n",
      "645cdca06beec953cd8cef04: 775 (es un valor atípico de acuerdo a la regla del IQR)\n",
      "645e5a0a6beec953cd8cf341: 763 (es un valor atípico de acuerdo a la regla del IQR)\n",
      "645cdeab6beec953cd8cef96: 759 (es un valor atípico de acuerdo a la regla del IQR)\n",
      "645e5b7d08d9b12c28db58fd: 753 (es un valor atípico de acuerdo a la regla del IQR)\n",
      "64010c322c7988556cc45edf: 731 (es un valor atípico de acuerdo a la regla del IQR)\n",
      "645e5b7e08d9b12c28db5901: 730 (es un valor atípico de acuerdo a la regla del IQR)\n",
      "64010716c6c06d234d57bab0: 717 (es un valor atípico de acuerdo a la regla del IQR)\n",
      "63e2ef3ed1414a450236cfa2: 708 (es un valor atípico de acuerdo a la regla del IQR)\n",
      "645e5b7b08d9b12c28db58e1: 681 (es un valor atípico de acuerdo a la regla del IQR)\n",
      "645e5a54d7931f76ea74d83f: 677 (es un valor atípico de acuerdo a la regla del IQR)\n",
      "64010716c6c06d234d57babc: 659 (es un valor atípico de acuerdo a la regla del IQR)\n",
      "63e2ef3ed1414a450236cfa4: 629 (es un valor atípico de acuerdo a la regla del IQR)\n",
      "63e2c0d6b783ec15a1f1d309: 626 (es un valor atípico de acuerdo a la regla del IQR)\n",
      "64010c322c7988556cc45ef1: 598 (es un valor atípico de acuerdo a la regla del IQR)\n",
      "63e2c0d6b783ec15a1f1d30f: 587 (es un valor atípico de acuerdo a la regla del IQR)\n",
      "\n",
      "Categorías atípicas en attribute:\n",
      "\n",
      "Categorías atípicas en weekstartdate:\n",
      "\n",
      "Categorías atípicas en gender:\n",
      "\n",
      "Categorías atípicas en agerange:\n",
      "\n",
      "Categorías atípicas en device:\n",
      "\n",
      "Categorías atípicas en creative:\n",
      "\n",
      "Categorías atípicas en placement:\n",
      "PrizeStash - TXM - Primary: 20456 (es un valor atípico de acuerdo a la regla del IQR)\n",
      "\n",
      "Categorías atípicas en deviceos:\n",
      "\n",
      "Categorías atípicas en property:\n",
      "PrizeStash: 20456 (es un valor atípico de acuerdo a la regla del IQR)\n",
      "\n",
      "Categorías atípicas en publisher:\n",
      "\n",
      "Categorías atípicas en campaignname:\n",
      "\n",
      "Categorías atípicas en state:\n",
      "\n",
      "Categorías atípicas en utmsource:\n",
      "2e54aa0ab2b02a0dccdbfec72e1d0bcc: 12066 (es un valor atípico de acuerdo a la regla del IQR)\n",
      "4fa2c5c1c8766abe797da7106c0801b8: 11056 (es un valor atípico de acuerdo a la regla del IQR)\n",
      "20d7231ce28c2a0ce3d4e997632eac6e: 7628 (es un valor atípico de acuerdo a la regla del IQR)\n",
      "c5ff0188f447cd52d79fdd08d0ca12f9: 4786 (es un valor atípico de acuerdo a la regla del IQR)\n",
      "20402e043aca900cf071f50595e2fc57: 2683 (es un valor atípico de acuerdo a la regla del IQR)\n",
      "\n",
      "Categorías atípicas en utmcampaign:\n",
      "ecc7c7a42da7ea88566499d1dc280a7f: 17049 (es un valor atípico de acuerdo a la regla del IQR)\n",
      "0: 4225 (es un valor atípico de acuerdo a la regla del IQR)\n",
      "d041f5c90c2e507ec900b536711379bc: 4075 (es un valor atípico de acuerdo a la regla del IQR)\n",
      "35c07a2d9a9290106b73bed7bd207e80: 2782 (es un valor atípico de acuerdo a la regla del IQR)\n",
      "3c62d2276a48444da29797b7667ee4ef: 2383 (es un valor atípico de acuerdo a la regla del IQR)\n",
      "980ba57e31abf4d357159ebc053f9090: 1498 (es un valor atípico de acuerdo a la regla del IQR)\n",
      "2e1db0776fa4748fe8617cbfe0ec5fc6: 557 (es un valor atípico de acuerdo a la regla del IQR)\n",
      "8199931e6705e0bfc795366880ef14dd: 398 (es un valor atípico de acuerdo a la regla del IQR)\n",
      "5694c2efedb2765c4c5c4ac53505e03f: 216 (es un valor atípico de acuerdo a la regla del IQR)\n",
      "055dddcf027743f0a8bcf494375b3901: 176 (es un valor atípico de acuerdo a la regla del IQR)\n",
      "cc3d9ddecbc0a98c2e21f39e04010224: 120 (es un valor atípico de acuerdo a la regla del IQR)\n",
      "f8772463cb251a03f8a246c4f370c749: 118 (es un valor atípico de acuerdo a la regla del IQR)\n",
      "8a59fb26410e4e1ff06086e40c59bf94: 114 (es un valor atípico de acuerdo a la regla del IQR)\n",
      "2b1ed73f8b7abc1e79ae47a768192f27: 110 (es un valor atípico de acuerdo a la regla del IQR)\n",
      "670af87d337dea0b44fd33c88f9c2b52: 106 (es un valor atípico de acuerdo a la regla del IQR)\n",
      "caf9eb4800fd2e4da19c2fe9ba0cf2d9: 100 (es un valor atípico de acuerdo a la regla del IQR)\n",
      "\n",
      "Categorías atípicas en campaigntype:\n"
     ]
    }
   ],
   "source": [
    "# Identificación de que categoría dentro de cada una de las variables categoricas, su sumatoria es atipica, es decir que no tienen nada de presencia dentro del dataset o tienen excesiva presencia\n",
    "for column in df.select_dtypes(include=['object']).columns:\n",
    "    category_counts = df[column].value_counts()\n",
    "\n",
    "    Q1 = category_counts.quantile(0.10)\n",
    "    Q3 = category_counts.quantile(0.90)\n",
    "    IQR = Q3 - Q1\n",
    "\n",
    "    lower_bound = Q1 - 1.5 * IQR\n",
    "    upper_bound = Q3 + 1.5 * IQR\n",
    "    \n",
    "    print(f\"\\nCategorías atípicas en {column}:\")\n",
    "    for category, count in category_counts.items():\n",
    "        if count < lower_bound or count > upper_bound:\n",
    "            print(f\"{category}: {count} (es un valor atípico de acuerdo a la regla del IQR)\")\n"
   ]
  },
  {
   "attachments": {},
   "cell_type": "markdown",
   "metadata": {},
   "source": [
    "### Presentación de graficos de correlación e histogramas\n",
    "1. Se presenta un heatmap con las correlaciones entre variables\n",
    "2. Se presentan los histogramas y diagramas de caja y bigotes de cada una de las variables."
   ]
  },
  {
   "cell_type": "code",
   "execution_count": null,
   "metadata": {},
   "outputs": [
    {
     "data": {
      "image/png": "[encoded data removed]",
      "text/plain": [
       "<Figure size 864x720 with 2 Axes>"
      ]
     },
     "metadata": {
      "needs_background": "light"
     },
     "output_type": "display_data"
    }
   ],
   "source": [
    "import seaborn as sns\n",
    "import matplotlib.pyplot as plt\n",
    "\n",
    "plt.figure(figsize=(12,10))\n",
    "sns.set(style=\"white\")\n",
    "corr = df.corr()\n",
    "mask = np.triu(np.ones_like(corr, dtype=bool))\n",
    "cmap = sns.diverging_palette(230, 20, as_cmap=True)\n",
    "sns.heatmap(corr, mask=mask, cmap=cmap, vmax=.3, center=0, annot=True,\n",
    "            square=True, linewidths=.5, cbar_kws={\"shrink\": .5})\n",
    "plt.show()\n"
   ]
  },
  {
   "cell_type": "code",
   "execution_count": 30,
   "metadata": {},
   "outputs": [],
   "source": [
    "import plotly.express as px\n",
    "from sklearn.preprocessing import LabelEncoder\n",
    "import numpy as np\n",
    "le = LabelEncoder()\n",
    "\n",
    "df_encoded = df.copy()\n",
    "for column in df_encoded.select_dtypes(include=['object']).columns:\n",
    "    df_encoded[column].fillna('Unknown', inplace=True)\n",
    "    df_encoded[column] = le.fit_transform(df_encoded[column].astype(str))\n",
    "\n",
    "for column in df_encoded.select_dtypes(include=[np.number]).columns:\n",
    "    fig = px.histogram(df_encoded, x=column, nbins=50, title=f'Histograma de {column}')\n",
    "    fig.update_layout(bargap=0.1, width=500, height=300, plot_bgcolor='white', paper_bgcolor='white') # Fondo blanco y tamaño más pequeño\n",
    "\n",
    "for column in df_encoded.select_dtypes(include=[np.number]).columns:\n",
    "    fig = px.box(df_encoded, y=column, title=f'Diagrama de caja de {column}')\n",
    "    fig.update_layout(width=500, height=300, plot_bgcolor='white', paper_bgcolor='white') # Fondo blanco y tamaño más pequeño\n",
    "\n",
    "\n"
   ]
  },
  {
   "cell_type": "code",
   "execution_count": 29,
   "metadata": {},
   "outputs": [
    {
     "name": "stdout",
     "output_type": "stream",
     "text": [
      "\n"
     ]
    }
   ],
   "source": [
    "# Gráficos de barras para cada variable categórica\n",
    "for column in df.select_dtypes(include=['object']).columns:\n",
    "    fig = px.histogram(df, x=column, title=f'Gráfico de barras de {column}')\n",
    "    fig.update_layout(bargap=0.1)\n",
    "print(\"\")"
   ]
  },
  {
   "cell_type": "code",
   "execution_count": null,
   "metadata": {},
   "outputs": [
    {
     "data": {
      "application/vnd.plotly.v1+json": {
       "config": {
        "plotlyServerURL": "https://plotly.com"
       },
       "data": [
        {
         "coloraxis": "coloraxis",
         "hovertemplate": "x: %{x}<br>y: %{y}<br>color: %{z}<extra></extra>",
         "name": "0",
         "type": "heatmap",
         "x": [
          "date",
          "phone",
          "targetid",
          "attribute",
          "weekstartdate",
          "gender",
          "agerange",
          "device",
          "creative",
          "placement",
          "deviceos",
          "records",
          "calls",
          "contacts",
          "humananswers",
          "voicemail",
          "answered",
          "leads",
          "billable",
          "revenue",
          "marketingcost",
          "totalcost",
          "property",
          "publisher",
          "campaignname",
          "state",
          "utmsource",
          "utmcampaign",
          "campaigntype",
          "unique_leads",
          "unique_answers",
          "age"
         ],
         "xaxis": "x",
         "y": [
          "date",
          "phone",
          "targetid",
          "attribute",
          "weekstartdate",
          "gender",
          "agerange",
          "device",
          "creative",
          "placement",
          "deviceos",
          "records",
          "calls",
          "contacts",
          "humananswers",
          "voicemail",
          "answered",
          "leads",
          "billable",
          "revenue",
          "marketingcost",
          "totalcost",
          "property",
          "publisher",
          "campaignname",
          "state",
          "utmsource",
          "utmcampaign",
          "campaigntype",
          "unique_leads",
          "unique_answers",
          "age"
         ],
         "yaxis": "y",
         "z": [
          [
           1,
           -0.01364676407944296,
           0.8240355633827335,
           -0.13957737524549454,
           1,
           -0.2868752775930843,
           0.20034435681127347,
           -0.03429208023467242,
           -0.3354872153027627,
           0.020697728566184816,
           0.016811816861787975,
           null,
           -0.1452499931395599,
           -0.04853212207999656,
           -0.04447345195328792,
           -0.09336617875475343,
           0.003565934667402028,
           -0.06282534021002643,
           -0.0004779214299314002,
           -0.00030037597133442936,
           0.08882055069236888,
           -0.00008629427280390417,
           0.044300348377052316,
           0.13622739333341044,
           0.7124688141148998,
           0.02501951084824749,
           0.22311952743999292,
           0.34113028167449866,
           0.22776679884325268,
           -0.06570761991505666,
           0.003565934667402028,
           0.2077732691209041
          ],
          [
           -0.01364676407944296,
           1,
           -0.019362353424253104,
           -0.0028871812535423815,
           -0.01364676407944296,
           -0.004034882208942349,
           -0.006937284818822247,
           -0.005410230549379866,
           0.0059890312442564325,
           -0.004594465008145269,
           0.0006605013779428607,
           null,
           0.002354015210248685,
           -0.0040518423248179,
           -0.003276877246954549,
           0.0055796642803505134,
           -0.007517971197917026,
           -0.00018102194473086162,
           0.007449375884721844,
           0.0062368554415225905,
           0.0034844185388782237,
           0.005240003768180939,
           -0.0044961463577209045,
           0.00016220885717940103,
           -0.010784430870436094,
           0.01800997538918622,
           -0.0033575105937366195,
           -0.005542586840984496,
           0.002461900246897431,
           -0.007997236280310085,
           -0.007517971197917026,
           -0.005292419559581473
          ],
          [
           0.8240355633827335,
           -0.019362353424253104,
           1,
           0.16337020998064858,
           0.8240355633827335,
           0.0034051558938034813,
           0.28037788995317875,
           -0.03535226895573465,
           -0.21101865531442032,
           -0.005277019356249029,
           0.003942624343514896,
           null,
           -0.04762225751705898,
           -0.005987592234802171,
           -0.0012223154761734415,
           0.025738390267643466,
           0.04276303395232261,
           -0.04564419546996862,
           0.004518541343914307,
           0.008457784262148467,
           0.13578633869717815,
           0.06782261566667476,
           0.013013453045281774,
           0.11613154138929241,
           0.6515670211926534,
           0.02444570813430246,
           0.1964948022906087,
           0.24609875124408154,
           -0.06811412554095465,
           -0.047676762701999685,
           0.04276303395232261,
           0.28590860295131
          ],
          [
           -0.13957737524549454,
           -0.0028871812535423815,
           0.16337020998064858,
           1,
           -0.13957737524549454,
           0.7749921722176292,
           0.08548342198044229,
           -0.02243302791829329,
           0.3382609335691681,
           0.024200612894758045,
           -0.052791938935245725,
           null,
           0.2418284793034939,
           0.12829476418620572,
           0.11683101152216965,
           0.2799755588284074,
           0.09557661632700622,
           -0.005996773318116717,
           -0.014266570986585993,
           -0.0016396258370780302,
           0.1291575531989902,
           0.17118285442305983,
           0.017778974661618062,
           -0.0536578927591413,
           -0.5173313220723584,
           -0.00006247356999361983,
           -0.03207928781593254,
           0.020574929372283356,
           -0.8878681614725752,
           -0.005507171031832872,
           0.09557661632700622,
           0.08269141810358285
          ],
          [
           1,
           -0.01364676407944296,
           0.8240355633827335,
           -0.13957737524549454,
           1,
           -0.2868752775930843,
           0.20034435681127347,
           -0.03429208023467242,
           -0.3354872153027627,
           0.020697728566184816,
           0.016811816861787975,
           null,
           -0.1452499931395599,
           -0.04853212207999656,
           -0.04447345195328792,
           -0.09336617875475343,
           0.003565934667402028,
           -0.06282534021002643,
           -0.0004779214299314002,
           -0.00030037597133442936,
           0.08882055069236888,
           -0.00008629427280390417,
           0.044300348377052316,
           0.13622739333341044,
           0.7124688141148998,
           0.02501951084824749,
           0.22311952743999292,
           0.34113028167449866,
           0.22776679884325268,
           -0.06570761991505666,
           0.003565934667402028,
           0.2077732691209041
          ],
          [
           -0.2868752775930843,
           -0.004034882208942349,
           0.0034051558938034813,
           0.7749921722176292,
           -0.2868752775930843,
           1,
           0.03790669575700742,
           0.04657265565348254,
           0.3868267621853334,
           0.005296294710242957,
           -0.0629009416459778,
           null,
           0.18426775625479552,
           0.09004578024408354,
           0.07890746095587145,
           0.23055231812991175,
           0.05592568175832063,
           -0.0033073202056850136,
           -0.02758870963707474,
           -0.015021964433913296,
           0.11877304636856809,
           0.15891013215348224,
           -0.004962771813313676,
           -0.11774278584682042,
           -0.5634788682333346,
           0.0007163697080962226,
           -0.07722555159183464,
           -0.05137074319902304,
           -0.8400505704804766,
           0.00136841681394383,
           0.05592568175832063,
           0.03365450792417732
          ],
          [
           0.20034435681127347,
           -0.006937284818822247,
           0.28037788995317875,
           0.08548342198044229,
           0.20034435681127347,
           0.03790669575700742,
           1,
           0.010178278331609884,
           -0.04460216939528007,
           -0.0693807930683159,
           0.1377866812345664,
           null,
           0.034678012452196025,
           0.029201999173418244,
           0.02472076295285558,
           0.08609589493241475,
           0.029587830520479776,
           0.007743946458412762,
           -0.0015891964502622524,
           0.0036811011234701182,
           0.05479301596534854,
           0.04677048811707066,
           -0.06496573519081007,
           0.0942850051542027,
           0.16176085977059365,
           0.03132379218824004,
           0.15237104916290867,
           0.14178980770806418,
           -0.06950583447457923,
           0.012585288182662177,
           0.029587830520479776,
           0.975826036540339
          ],
          [
           -0.03429208023467242,
           -0.005410230549379866,
           -0.03535226895573465,
           -0.02243302791829329,
           -0.03429208023467242,
           0.04657265565348254,
           0.010178278331609884,
           1,
           0.01826692891615734,
           0.040464942863883635,
           -0.06500462822053768,
           null,
           -0.028908577866090905,
           -0.00876549925315471,
           -0.007755096750337211,
           -0.019092007130605205,
           -0.014113148822900741,
           -0.003825151935951277,
           0.003895593430108558,
           0.004351804699514493,
           -0.011844342915426373,
           -0.012963879438099438,
           0.049959973939604795,
           0.03555018530506761,
           -0.0036143941635162105,
           0.03614806707112087,
           -0.013442006852574583,
           0.0072553752896428484,
           0.01983013179557802,
           -0.003315211255235451,
           -0.014113148822900741,
           0.007389459458312497
          ],
          [
           -0.3354872153027627,
           0.0059890312442564325,
           -0.21101865531442032,
           0.3382609335691681,
           -0.3354872153027627,
           0.3868267621853334,
           -0.04460216939528007,
           0.01826692891615734,
           1,
           -0.002680168842558809,
           -0.03990930946176905,
           null,
           0.0703103626005632,
           0.03672594143905848,
           0.030900689068023776,
           0.08234857333196553,
           0.01311520993754508,
           -0.003543186334194802,
           -0.01572763598716256,
           -0.013316091264695728,
           0.04743709003882254,
           0.07883258111817511,
           -0.013868484126382983,
           -0.1276415371851005,
           -0.3605854892007539,
           -0.019895387208468795,
           -0.10958339337739917,
           -0.10825775224302404,
           -0.3853533471679564,
           0.0017296768606040191,
           0.01311520993754508,
           -0.047455485970490506
          ],
          [
           0.020697728566184816,
           -0.004594465008145269,
           -0.005277019356249029,
           0.024200612894758045,
           0.020697728566184816,
           0.005296294710242957,
           -0.0693807930683159,
           0.040464942863883635,
           -0.002680168842558809,
           1,
           -0.11275740984926554,
           null,
           -0.004762980976737645,
           -0.004079816994713252,
           -0.006905278178539977,
           -0.009273888245909166,
           -0.014209867716182222,
           -0.023874282773028093,
           -0.01283873112516137,
           -0.01273620185209839,
           -0.04365698062680266,
           -0.047767138260922784,
           0.9535763542454371,
           0.27376959929964323,
           -0.03121954683548301,
           0.015183170308306767,
           -0.11098396978190878,
           -0.037605761278881183,
           -0.00011904964242840224,
           -0.027887253732638537,
           -0.014209867716182222,
           -0.07025047633620367
          ],
          [
           0.016811816861787975,
           0.0006605013779428607,
           0.003942624343514896,
           -0.052791938935245725,
           0.016811816861787975,
           -0.0629009416459778,
           0.1377866812345664,
           -0.06500462822053768,
           -0.03990930946176905,
           -0.11275740984926554,
           1,
           null,
           0.04086165920223829,
           -0.06631871464161457,
           -0.062209383581378834,
           0.06422713077061,
           -0.0921002460831009,
           -0.01712031030468972,
           -0.009441698838769061,
           -0.01003753370472639,
           -0.019183806651692163,
           -0.030596100022651136,
           -0.11732714973201397,
           0.11209716313846525,
           0.03336420278618349,
           -0.008613674469072113,
           0.1038429550141971,
           0.007297664752108809,
           0.04472747015460299,
           -0.020942970400294428,
           -0.0921002460831009,
           0.14154834218796847
          ],
          [
           null,
           null,
           null,
           null,
           null,
           null,
           null,
           null,
           null,
           null,
           null,
           null,
           null,
           null,
           null,
           null,
           null,
           null,
           null,
           null,
           null,
           null,
           null,
           null,
           null,
           null,
           null,
           null,
           null,
           null,
           null,
           null
          ],
          [
           -0.1452499931395599,
           0.002354015210248685,
           -0.04762225751705898,
           0.2418284793034939,
           -0.1452499931395599,
           0.18426775625479552,
           0.034678012452196025,
           -0.028908577866090905,
           0.0703103626005632,
           -0.004762980976737645,
           0.04086165920223829,
           null,
           1,
           -0.08404014116596735,
           -0.08008990218016925,
           0.8965235568682117,
           -0.11668814551793169,
           -0.03097943511948361,
           -0.05589526856909307,
           -0.05436939373698036,
           0.03841744420465736,
           0.041746907821448985,
           -0.011762249143429333,
           -0.011836062795350988,
           -0.26279599576065305,
           0.01579014302917202,
           -0.01884956805041662,
           0.05150605549530449,
           -0.24777115066667987,
           -0.02908814737984388,
           -0.11668814551793169,
           0.03335625864041363
          ],
          [
           -0.04853212207999656,
           -0.0040518423248179,
           -0.005987592234802171,
           0.12829476418620572,
           -0.04853212207999656,
           0.09004578024408354,
           0.029201999173418244,
           -0.00876549925315471,
           0.03672594143905848,
           -0.004079816994713252,
           -0.06631871464161457,
           null,
           -0.08404014116596735,
           1,
           0.93794015354356,
           -0.1172967493695909,
           0.635946246410155,
           0.14574261182127868,
           0.04747976286411868,
           0.04484739779480835,
           0.025945167490393158,
           0.2374691110614841,
           -0.004171773298208944,
           0.001875438569125128,
           -0.11381508693970037,
           -0.018698911789990127,
           -0.005648086567410103,
           0.054189574494557524,
           -0.13519944365111067,
           0.13719009676334357,
           0.635946246410155,
           0.02748852559343795
          ],
          [
           -0.04447345195328792,
           -0.003276877246954549,
           -0.0012223154761734415,
           0.11683101152216965,
           -0.04447345195328792,
           0.07890746095587145,
           0.02472076295285558,
           -0.007755096750337211,
           0.030900689068023776,
           -0.006905278178539977,
           -0.062209383581378834,
           null,
           -0.08008990218016925,
           0.93794015354356,
           1,
           -0.11161071108799908,
           0.6786607016119139,
           0.15534702459823657,
           0.06242166416667915,
           0.05873717314578289,
           0.023968684983656674,
           0.2487693996292046,
           -0.007472861158061421,
           0.008283215364718897,
           -0.10392607940140315,
           -0.016378575181356513,
           -0.0017340617858322826,
           0.04716497093009662,
           -0.12131945223826739,
           0.1428166278853181,
           0.6786607016119139,
           0.023235934670878942
          ],
          [
           -0.09336617875475343,
           0.0055796642803505134,
           0.025738390267643466,
           0.2799755588284074,
           -0.09336617875475343,
           0.23055231812991175,
           0.08609589493241475,
           -0.019092007130605205,
           0.08234857333196553,
           -0.009273888245909166,
           0.06422713077061,
           null,
           0.8965235568682117,
           -0.1172967493695909,
           -0.11161071108799908,
           1,
           -0.1113703767300613,
           -0.036211179965898906,
           -0.04878767773830211,
           -0.04643465396282286,
           0.05746263019558371,
           0.04914935147141867,
           -0.01700199408651098,
           -0.001958550828982884,
           -0.22064217362987731,
           0.01719570736140693,
           -0.0005109311257352066,
           0.04929881621876422,
           -0.29095527310836833,
           -0.033603405100848825,
           -0.1113703767300613,
           0.08541359200023133
          ],
          [
           0.003565934667402028,
           -0.007517971197917026,
           0.04276303395232261,
           0.09557661632700622,
           0.003565934667402028,
           0.05592568175832063,
           0.029587830520479776,
           -0.014113148822900741,
           0.01311520993754508,
           -0.014209867716182222,
           -0.0921002460831009,
           null,
           -0.11668814551793169,
           0.635946246410155,
           0.6786607016119139,
           -0.1113703767300613,
           1,
           0.1299334099361358,
           0.0776461735175085,
           0.07671755264555301,
           0.02752766427871158,
           0.1647606337807449,
           -0.013729896203747177,
           0.01354323466951421,
           -0.043368764270076736,
           -0.013240877900544049,
           0.0058720848259865835,
           0.06552223834463211,
           -0.0946706445857319,
           0.13577550080361442,
           1,
           0.029023327356993023
          ],
          [
           -0.06282534021002643,
           -0.00018102194473086162,
           -0.04564419546996862,
           -0.005996773318116717,
           -0.06282534021002643,
           -0.0033073202056850136,
           0.007743946458412762,
           -0.003825151935951277,
           -0.003543186334194802,
           -0.023874282773028093,
           -0.01712031030468972,
           null,
           -0.03097943511948361,
           0.14574261182127868,
           0.15534702459823657,
           -0.036211179965898906,
           0.1299334099361358,
           1,
           0.5412433320444778,
           0.5252082005034701,
           -0.008861177981877801,
           0.04444460952696908,
           -0.028935442875993183,
           -0.011667144485063388,
           -0.02842854727521962,
           -0.015724833235638308,
           -0.014960775268888917,
           -0.04698434504511863,
           0.012044408155673961,
           0.9299567177532746,
           0.1299334099361358,
           0.008721415226765797
          ],
          [
           -0.0004779214299314002,
           0.007449375884721844,
           0.004518541343914307,
           -0.014266570986585993,
           -0.0004779214299314002,
           -0.02758870963707474,
           -0.0015891964502622524,
           0.003895593430108558,
           -0.01572763598716256,
           -0.01283873112516137,
           -0.009441698838769061,
           null,
           -0.05589526856909307,
           0.04747976286411868,
           0.06242166416667915,
           -0.04878767773830211,
           0.0776461735175085,
           0.5412433320444778,
           1,
           0.9839986068892466,
           -0.00275468139564478,
           0.016937685127017654,
           -0.019972135041821805,
           -0.006035145646652095,
           0.01273334392598496,
           -0.01259218873418406,
           0.007463562104175916,
           -0.0012304236648423726,
           0.020181239322861488,
           0.5484783587408824,
           0.0776461735175085,
           -0.001539059877396969
          ],
          [
           -0.00030037597133442936,
           0.0062368554415225905,
           0.008457784262148467,
           -0.0016396258370780302,
           -0.00030037597133442936,
           -0.015021964433913296,
           0.0036811011234701182,
           0.004351804699514493,
           -0.013316091264695728,
           -0.01273620185209839,
           -0.01003753370472639,
           null,
           -0.05436939373698036,
           0.04484739779480835,
           0.05873717314578289,
           -0.04643465396282286,
           0.07671755264555301,
           0.5252082005034701,
           0.9839986068892466,
           1,
           -0.00040576781524346255,
           0.013768686129397698,
           -0.020125839309582644,
           -0.004821998332128176,
           0.0053554166680130424,
           -0.01004939910908363,
           0.008511004040228426,
           -0.00008068306179899046,
           0.007523717011909059,
           0.5394500329875443,
           0.07671755264555301,
           0.0037991775156946206
          ],
          [
           0.08882055069236888,
           0.0034844185388782237,
           0.13578633869717815,
           0.1291575531989902,
           0.08882055069236888,
           0.11877304636856809,
           0.05479301596534854,
           -0.011844342915426373,
           0.04743709003882254,
           -0.04365698062680266,
           -0.019183806651692163,
           null,
           0.03841744420465736,
           0.025945167490393158,
           0.023968684983656674,
           0.05746263019558371,
           0.02752766427871158,
           -0.008861177981877801,
           -0.00275468139564478,
           -0.00040576781524346255,
           1,
           0.9601884137559809,
           -0.045989686157459055,
           -0.0723474682800651,
           0.014978716636809736,
           0.003664220415206334,
           0.029292285015687786,
           0.05642725342693128,
           -0.13365308029553158,
           -0.00675204138272489,
           0.02752766427871158,
           0.055561948158745704
          ],
          [
           -0.00008629427280390417,
           0.005240003768180939,
           0.06782261566667476,
           0.17118285442305983,
           -0.00008629427280390417,
           0.15891013215348224,
           0.04677048811707066,
           -0.012963879438099438,
           0.07883258111817511,
           -0.047767138260922784,
           -0.030596100022651136,
           null,
           0.041746907821448985,
           0.2374691110614841,
           0.2487693996292046,
           0.04914935147141867,
           0.1647606337807449,
           0.04444460952696908,
           0.016937685127017654,
           0.013768686129397698,
           0.9601884137559809,
           1,
           -0.052152761510927355,
           -0.07888611603021313,
           -0.07361836376786304,
           -0.002777777555409851,
           0.012574197866620099,
           0.047616846635752844,
           -0.18259656965356696,
           0.04125049683744682,
           0.1647606337807449,
           0.046976437269513595
          ],
          [
           0.044300348377052316,
           -0.0044961463577209045,
           0.013013453045281774,
           0.017778974661618062,
           0.044300348377052316,
           -0.004962771813313676,
           -0.06496573519081007,
           0.049959973939604795,
           -0.013868484126382983,
           0.9535763542454371,
           -0.11732714973201397,
           null,
           -0.011762249143429333,
           -0.004171773298208944,
           -0.007472861158061421,
           -0.01700199408651098,
           -0.013729896203747177,
           -0.028935442875993183,
           -0.019972135041821805,
           -0.020125839309582644,
           -0.045989686157459055,
           -0.052152761510927355,
           1,
           0.26329086565518767,
           -0.010358095010767924,
           0.01918680625008674,
           -0.14082569615820312,
           -0.0061122266875737,
           0.008753626049922109,
           -0.033172264897647324,
           -0.013729896203747177,
           -0.06505277862409295
          ],
          [
           0.13622739333341044,
           0.00016220885717940103,
           0.11613154138929241,
           -0.0536578927591413,
           0.13622739333341044,
           -0.11774278584682042,
           0.0942850051542027,
           0.03555018530506761,
           -0.1276415371851005,
           0.27376959929964323,
           0.11209716313846525,
           null,
           -0.011836062795350988,
           0.001875438569125128,
           0.008283215364718897,
           -0.001958550828982884,
           0.01354323466951421,
           -0.011667144485063388,
           -0.006035145646652095,
           -0.004821998332128176,
           -0.0723474682800651,
           -0.07888611603021313,
           0.26329086565518767,
           1,
           0.13281903677821,
           0.038623782892235566,
           0.3599282294025828,
           -0.030025582642857585,
           0.07976197774847128,
           -0.012889918037819397,
           0.01354323466951421,
           0.09822978215060736
          ],
          [
           0.7124688141148998,
           -0.010784430870436094,
           0.6515670211926534,
           -0.5173313220723584,
           0.7124688141148998,
           -0.5634788682333346,
           0.16176085977059365,
           -0.0036143941635162105,
           -0.3605854892007539,
           -0.03121954683548301,
           0.03336420278618349,
           null,
           -0.26279599576065305,
           -0.11381508693970037,
           -0.10392607940140315,
           -0.22064217362987731,
           -0.043368764270076736,
           -0.02842854727521962,
           0.01273334392598496,
           0.0053554166680130424,
           0.014978716636809736,
           -0.07361836376786304,
           -0.010358095010767924,
           0.13281903677821,
           1,
           0.01733663337607448,
           0.1686543772202278,
           0.16617316850771488,
           0.6067380849560009,
           -0.031730745329241805,
           -0.043368764270076736,
           0.16828589183868292
          ],
          [
           0.02501951084824749,
           0.01800997538918622,
           0.02444570813430246,
           -0.00006247356999361983,
           0.02501951084824749,
           0.0007163697080962226,
           0.03132379218824004,
           0.03614806707112087,
           -0.019895387208468795,
           0.015183170308306767,
           -0.008613674469072113,
           null,
           0.01579014302917202,
           -0.018698911789990127,
           -0.016378575181356513,
           0.01719570736140693,
           -0.013240877900544049,
           -0.015724833235638308,
           -0.01259218873418406,
           -0.01004939910908363,
           0.003664220415206334,
           -0.002777777555409851,
           0.01918680625008674,
           0.038623782892235566,
           0.01733663337607448,
           1,
           0.027090411800942092,
           0.022726902347646297,
           0.004078518027008433,
           -0.015754503438894393,
           -0.013240877900544049,
           0.030470258083615587
          ],
          [
           0.22311952743999292,
           -0.0033575105937366195,
           0.1964948022906087,
           -0.03207928781593254,
           0.22311952743999292,
           -0.07722555159183464,
           0.15237104916290867,
           -0.013442006852574583,
           -0.10958339337739917,
           -0.11098396978190878,
           0.1038429550141971,
           null,
           -0.01884956805041662,
           -0.005648086567410103,
           -0.0017340617858322826,
           -0.0005109311257352066,
           0.0058720848259865835,
           -0.014960775268888917,
           0.007463562104175916,
           0.008511004040228426,
           0.029292285015687786,
           0.012574197866620099,
           -0.14082569615820312,
           0.3599282294025828,
           0.1686543772202278,
           0.027090411800942092,
           1,
           0.1565620558817434,
           0.05042801018335392,
           -0.021772151675957457,
           0.0058720848259865835,
           0.15605350081724065
          ],
          [
           0.34113028167449866,
           -0.005542586840984496,
           0.24609875124408154,
           0.020574929372283356,
           0.34113028167449866,
           -0.05137074319902304,
           0.14178980770806418,
           0.0072553752896428484,
           -0.10825775224302404,
           -0.037605761278881183,
           0.007297664752108809,
           null,
           0.05150605549530449,
           0.054189574494557524,
           0.04716497093009662,
           0.04929881621876422,
           0.06552223834463211,
           -0.04698434504511863,
           -0.0012304236648423726,
           -0.00008068306179899046,
           0.05642725342693128,
           0.047616846635752844,
           -0.0061122266875737,
           -0.030025582642857585,
           0.16617316850771488,
           0.022726902347646297,
           0.1565620558817434,
           1,
           0.008599627777058394,
           -0.042458150195656005,
           0.06552223834463211,
           0.14406044774989335
          ],
          [
           0.22776679884325268,
           0.002461900246897431,
           -0.06811412554095465,
           -0.8878681614725752,
           0.22776679884325268,
           -0.8400505704804766,
           -0.06950583447457923,
           0.01983013179557802,
           -0.3853533471679564,
           -0.00011904964242840224,
           0.04472747015460299,
           null,
           -0.24777115066667987,
           -0.13519944365111067,
           -0.12131945223826739,
           -0.29095527310836833,
           -0.0946706445857319,
           0.012044408155673961,
           0.020181239322861488,
           0.007523717011909059,
           -0.13365308029553158,
           -0.18259656965356696,
           0.008753626049922109,
           0.07976197774847128,
           0.6067380849560009,
           0.004078518027008433,
           0.05042801018335392,
           0.008599627777058394,
           1,
           0.005520866358439842,
           -0.0946706445857319,
           -0.06733109088780198
          ],
          [
           -0.06570761991505666,
           -0.007997236280310085,
           -0.047676762701999685,
           -0.005507171031832872,
           -0.06570761991505666,
           0.00136841681394383,
           0.012585288182662177,
           -0.003315211255235451,
           0.0017296768606040191,
           -0.027887253732638537,
           -0.020942970400294428,
           null,
           -0.02908814737984388,
           0.13719009676334357,
           0.1428166278853181,
           -0.033603405100848825,
           0.13577550080361442,
           0.9299567177532746,
           0.5484783587408824,
           0.5394500329875443,
           -0.00675204138272489,
           0.04125049683744682,
           -0.033172264897647324,
           -0.012889918037819397,
           -0.031730745329241805,
           -0.015754503438894393,
           -0.021772151675957457,
           -0.042458150195656005,
           0.005520866358439842,
           1,
           0.13577550080361442,
           0.01293468684801342
          ],
          [
           0.003565934667402028,
           -0.007517971197917026,
           0.04276303395232261,
           0.09557661632700622,
           0.003565934667402028,
           0.05592568175832063,
           0.029587830520479776,
           -0.014113148822900741,
           0.01311520993754508,
           -0.014209867716182222,
           -0.0921002460831009,
           null,
           -0.11668814551793169,
           0.635946246410155,
           0.6786607016119139,
           -0.1113703767300613,
           1,
           0.1299334099361358,
           0.0776461735175085,
           0.07671755264555301,
           0.02752766427871158,
           0.1647606337807449,
           -0.013729896203747177,
           0.01354323466951421,
           -0.043368764270076736,
           -0.013240877900544049,
           0.0058720848259865835,
           0.06552223834463211,
           -0.0946706445857319,
           0.13577550080361442,
           1,
           0.029023327356993023
          ],
          [
           0.2077732691209041,
           -0.005292419559581473,
           0.28590860295131,
           0.08269141810358285,
           0.2077732691209041,
           0.03365450792417732,
           0.975826036540339,
           0.007389459458312497,
           -0.047455485970490506,
           -0.07025047633620367,
           0.14154834218796847,
           null,
           0.03335625864041363,
           0.02748852559343795,
           0.023235934670878942,
           0.08541359200023133,
           0.029023327356993023,
           0.008721415226765797,
           -0.001539059877396969,
           0.0037991775156946206,
           0.055561948158745704,
           0.046976437269513595,
           -0.06505277862409295,
           0.09822978215060736,
           0.16828589183868292,
           0.030470258083615587,
           0.15605350081724065,
           0.14406044774989335,
           -0.06733109088780198,
           0.01293468684801342,
           0.029023327356993023,
           1
          ]
         ]
        }
       ],
       "layout": {
        "coloraxis": {
         "colorscale": [
          [
           0,
           "rgb(5,48,97)"
          ],
          [
           0.1,
           "rgb(33,102,172)"
          ],
          [
           0.2,
           "rgb(67,147,195)"
          ],
          [
           0.3,
           "rgb(146,197,222)"
          ],
          [
           0.4,
           "rgb(209,229,240)"
          ],
          [
           0.5,
           "rgb(247,247,247)"
          ],
          [
           0.6,
           "rgb(253,219,199)"
          ],
          [
           0.7,
           "rgb(244,165,130)"
          ],
          [
           0.8,
           "rgb(214,96,77)"
          ],
          [
           0.9,
           "rgb(178,24,43)"
          ],
          [
           1,
           "rgb(103,0,31)"
          ]
         ]
        },
        "height": 800,
        "paper_bgcolor": "white",
        "plot_bgcolor": "white",
        "template": {
         "data": {
          "bar": [
           {
            "error_x": {
             "color": "#2a3f5f"
            },
            "error_y": {
             "color": "#2a3f5f"
            },
            "marker": {
             "line": {
              "color": "#E5ECF6",
              "width": 0.5
             },
             "pattern": {
              "fillmode": "overlay",
              "size": 10,
              "solidity": 0.2
             }
            },
            "type": "bar"
           }
          ],
          "barpolar": [
           {
            "marker": {
             "line": {
              "color": "#E5ECF6",
              "width": 0.5
             },
             "pattern": {
              "fillmode": "overlay",
              "size": 10,
              "solidity": 0.2
             }
            },
            "type": "barpolar"
           }
          ],
          "carpet": [
           {
            "aaxis": {
             "endlinecolor": "#2a3f5f",
             "gridcolor": "white",
             "linecolor": "white",
             "minorgridcolor": "white",
             "startlinecolor": "#2a3f5f"
            },
            "baxis": {
             "endlinecolor": "#2a3f5f",
             "gridcolor": "white",
             "linecolor": "white",
             "minorgridcolor": "white",
             "startlinecolor": "#2a3f5f"
            },
            "type": "carpet"
           }
          ],
          "choropleth": [
           {
            "colorbar": {
             "outlinewidth": 0,
             "ticks": ""
            },
            "type": "choropleth"
           }
          ],
          "contour": [
           {
            "colorbar": {
             "outlinewidth": 0,
             "ticks": ""
            },
            "colorscale": [
             [
              0,
              "#0d0887"
             ],
             [
              0.1111111111111111,
              "#46039f"
             ],
             [
              0.2222222222222222,
              "#7201a8"
             ],
             [
              0.3333333333333333,
              "#9c179e"
             ],
             [
              0.4444444444444444,
              "#bd3786"
             ],
             [
              0.5555555555555556,
              "#d8576b"
             ],
             [
              0.6666666666666666,
              "#ed7953"
             ],
             [
              0.7777777777777778,
              "#fb9f3a"
             ],
             [
              0.8888888888888888,
              "#fdca26"
             ],
             [
              1,
              "#f0f921"
             ]
            ],
            "type": "contour"
           }
          ],
          "contourcarpet": [
           {
            "colorbar": {
             "outlinewidth": 0,
             "ticks": ""
            },
            "type": "contourcarpet"
           }
          ],
          "heatmap": [
           {
            "colorbar": {
             "outlinewidth": 0,
             "ticks": ""
            },
            "colorscale": [
             [
              0,
              "#0d0887"
             ],
             [
              0.1111111111111111,
              "#46039f"
             ],
             [
              0.2222222222222222,
              "#7201a8"
             ],
             [
              0.3333333333333333,
              "#9c179e"
             ],
             [
              0.4444444444444444,
              "#bd3786"
             ],
             [
              0.5555555555555556,
              "#d8576b"
             ],
             [
              0.6666666666666666,
              "#ed7953"
             ],
             [
              0.7777777777777778,
              "#fb9f3a"
             ],
             [
              0.8888888888888888,
              "#fdca26"
             ],
             [
              1,
              "#f0f921"
             ]
            ],
            "type": "heatmap"
           }
          ],
          "heatmapgl": [
           {
            "colorbar": {
             "outlinewidth": 0,
             "ticks": ""
            },
            "colorscale": [
             [
              0,
              "#0d0887"
             ],
             [
              0.1111111111111111,
              "#46039f"
             ],
             [
              0.2222222222222222,
              "#7201a8"
             ],
             [
              0.3333333333333333,
              "#9c179e"
             ],
             [
              0.4444444444444444,
              "#bd3786"
             ],
             [
              0.5555555555555556,
              "#d8576b"
             ],
             [
              0.6666666666666666,
              "#ed7953"
             ],
             [
              0.7777777777777778,
              "#fb9f3a"
             ],
             [
              0.8888888888888888,
              "#fdca26"
             ],
             [
              1,
              "#f0f921"
             ]
            ],
            "type": "heatmapgl"
           }
          ],
          "histogram": [
           {
            "marker": {
             "pattern": {
              "fillmode": "overlay",
              "size": 10,
              "solidity": 0.2
             }
            },
            "type": "histogram"
           }
          ],
          "histogram2d": [
           {
            "colorbar": {
             "outlinewidth": 0,
             "ticks": ""
            },
            "colorscale": [
             [
              0,
              "#0d0887"
             ],
             [
              0.1111111111111111,
              "#46039f"
             ],
             [
              0.2222222222222222,
              "#7201a8"
             ],
             [
              0.3333333333333333,
              "#9c179e"
             ],
             [
              0.4444444444444444,
              "#bd3786"
             ],
             [
              0.5555555555555556,
              "#d8576b"
             ],
             [
              0.6666666666666666,
              "#ed7953"
             ],
             [
              0.7777777777777778,
              "#fb9f3a"
             ],
             [
              0.8888888888888888,
              "#fdca26"
             ],
             [
              1,
              "#f0f921"
             ]
            ],
            "type": "histogram2d"
           }
          ],
          "histogram2dcontour": [
           {
            "colorbar": {
             "outlinewidth": 0,
             "ticks": ""
            },
            "colorscale": [
             [
              0,
              "#0d0887"
             ],
             [
              0.1111111111111111,
              "#46039f"
             ],
             [
              0.2222222222222222,
              "#7201a8"
             ],
             [
              0.3333333333333333,
              "#9c179e"
             ],
             [
              0.4444444444444444,
              "#bd3786"
             ],
             [
              0.5555555555555556,
              "#d8576b"
             ],
             [
              0.6666666666666666,
              "#ed7953"
             ],
             [
              0.7777777777777778,
              "#fb9f3a"
             ],
             [
              0.8888888888888888,
              "#fdca26"
             ],
             [
              1,
              "#f0f921"
             ]
            ],
            "type": "histogram2dcontour"
           }
          ],
          "mesh3d": [
           {
            "colorbar": {
             "outlinewidth": 0,
             "ticks": ""
            },
            "type": "mesh3d"
           }
          ],
          "parcoords": [
           {
            "line": {
             "colorbar": {
              "outlinewidth": 0,
              "ticks": ""
             }
            },
            "type": "parcoords"
           }
          ],
          "pie": [
           {
            "automargin": true,
            "type": "pie"
           }
          ],
          "scatter": [
           {
            "fillpattern": {
             "fillmode": "overlay",
             "size": 10,
             "solidity": 0.2
            },
            "type": "scatter"
           }
          ],
          "scatter3d": [
           {
            "line": {
             "colorbar": {
              "outlinewidth": 0,
              "ticks": ""
             }
            },
            "marker": {
             "colorbar": {
              "outlinewidth": 0,
              "ticks": ""
             }
            },
            "type": "scatter3d"
           }
          ],
          "scattercarpet": [
           {
            "marker": {
             "colorbar": {
              "outlinewidth": 0,
              "ticks": ""
             }
            },
            "type": "scattercarpet"
           }
          ],
          "scattergeo": [
           {
            "marker": {
             "colorbar": {
              "outlinewidth": 0,
              "ticks": ""
             }
            },
            "type": "scattergeo"
           }
          ],
          "scattergl": [
           {
            "marker": {
             "colorbar": {
              "outlinewidth": 0,
              "ticks": ""
             }
            },
            "type": "scattergl"
           }
          ],
          "scattermapbox": [
           {
            "marker": {
             "colorbar": {
              "outlinewidth": 0,
              "ticks": ""
             }
            },
            "type": "scattermapbox"
           }
          ],
          "scatterpolar": [
           {
            "marker": {
             "colorbar": {
              "outlinewidth": 0,
              "ticks": ""
             }
            },
            "type": "scatterpolar"
           }
          ],
          "scatterpolargl": [
           {
            "marker": {
             "colorbar": {
              "outlinewidth": 0,
              "ticks": ""
             }
            },
            "type": "scatterpolargl"
           }
          ],
          "scatterternary": [
           {
            "marker": {
             "colorbar": {
              "outlinewidth": 0,
              "ticks": ""
             }
            },
            "type": "scatterternary"
           }
          ],
          "surface": [
           {
            "colorbar": {
             "outlinewidth": 0,
             "ticks": ""
            },
            "colorscale": [
             [
              0,
              "#0d0887"
             ],
             [
              0.1111111111111111,
              "#46039f"
             ],
             [
              0.2222222222222222,
              "#7201a8"
             ],
             [
              0.3333333333333333,
              "#9c179e"
             ],
             [
              0.4444444444444444,
              "#bd3786"
             ],
             [
              0.5555555555555556,
              "#d8576b"
             ],
             [
              0.6666666666666666,
              "#ed7953"
             ],
             [
              0.7777777777777778,
              "#fb9f3a"
             ],
             [
              0.8888888888888888,
              "#fdca26"
             ],
             [
              1,
              "#f0f921"
             ]
            ],
            "type": "surface"
           }
          ],
          "table": [
           {
            "cells": {
             "fill": {
              "color": "#EBF0F8"
             },
             "line": {
              "color": "white"
             }
            },
            "header": {
             "fill": {
              "color": "#C8D4E3"
             },
             "line": {
              "color": "white"
             }
            },
            "type": "table"
           }
          ]
         },
         "layout": {
          "annotationdefaults": {
           "arrowcolor": "#2a3f5f",
           "arrowhead": 0,
           "arrowwidth": 1
          },
          "autotypenumbers": "strict",
          "coloraxis": {
           "colorbar": {
            "outlinewidth": 0,
            "ticks": ""
           }
          },
          "colorscale": {
           "diverging": [
            [
             0,
             "#8e0152"
            ],
            [
             0.1,
             "#c51b7d"
            ],
            [
             0.2,
             "#de77ae"
            ],
            [
             0.3,
             "#f1b6da"
            ],
            [
             0.4,
             "#fde0ef"
            ],
            [
             0.5,
             "#f7f7f7"
            ],
            [
             0.6,
             "#e6f5d0"
            ],
            [
             0.7,
             "#b8e186"
            ],
            [
             0.8,
             "#7fbc41"
            ],
            [
             0.9,
             "#4d9221"
            ],
            [
             1,
             "#276419"
            ]
           ],
           "sequential": [
            [
             0,
             "#0d0887"
            ],
            [
             0.1111111111111111,
             "#46039f"
            ],
            [
             0.2222222222222222,
             "#7201a8"
            ],
            [
             0.3333333333333333,
             "#9c179e"
            ],
            [
             0.4444444444444444,
             "#bd3786"
            ],
            [
             0.5555555555555556,
             "#d8576b"
            ],
            [
             0.6666666666666666,
             "#ed7953"
            ],
            [
             0.7777777777777778,
             "#fb9f3a"
            ],
            [
             0.8888888888888888,
             "#fdca26"
            ],
            [
             1,
             "#f0f921"
            ]
           ],
           "sequentialminus": [
            [
             0,
             "#0d0887"
            ],
            [
             0.1111111111111111,
             "#46039f"
            ],
            [
             0.2222222222222222,
             "#7201a8"
            ],
            [
             0.3333333333333333,
             "#9c179e"
            ],
            [
             0.4444444444444444,
             "#bd3786"
            ],
            [
             0.5555555555555556,
             "#d8576b"
            ],
            [
             0.6666666666666666,
             "#ed7953"
            ],
            [
             0.7777777777777778,
             "#fb9f3a"
            ],
            [
             0.8888888888888888,
             "#fdca26"
            ],
            [
             1,
             "#f0f921"
            ]
           ]
          },
          "colorway": [
           "#636efa",
           "#EF553B",
           "#00cc96",
           "#ab63fa",
           "#FFA15A",
           "#19d3f3",
           "#FF6692",
           "#B6E880",
           "#FF97FF",
           "#FECB52"
          ],
          "font": {
           "color": "#2a3f5f"
          },
          "geo": {
           "bgcolor": "white",
           "lakecolor": "white",
           "landcolor": "#E5ECF6",
           "showlakes": true,
           "showland": true,
           "subunitcolor": "white"
          },
          "hoverlabel": {
           "align": "left"
          },
          "hovermode": "closest",
          "mapbox": {
           "style": "light"
          },
          "paper_bgcolor": "white",
          "plot_bgcolor": "#E5ECF6",
          "polar": {
           "angularaxis": {
            "gridcolor": "white",
            "linecolor": "white",
            "ticks": ""
           },
           "bgcolor": "#E5ECF6",
           "radialaxis": {
            "gridcolor": "white",
            "linecolor": "white",
            "ticks": ""
           }
          },
          "scene": {
           "xaxis": {
            "backgroundcolor": "#E5ECF6",
            "gridcolor": "white",
            "gridwidth": 2,
            "linecolor": "white",
            "showbackground": true,
            "ticks": "",
            "zerolinecolor": "white"
           },
           "yaxis": {
            "backgroundcolor": "#E5ECF6",
            "gridcolor": "white",
            "gridwidth": 2,
            "linecolor": "white",
            "showbackground": true,
            "ticks": "",
            "zerolinecolor": "white"
           },
           "zaxis": {
            "backgroundcolor": "#E5ECF6",
            "gridcolor": "white",
            "gridwidth": 2,
            "linecolor": "white",
            "showbackground": true,
            "ticks": "",
            "zerolinecolor": "white"
           }
          },
          "shapedefaults": {
           "line": {
            "color": "#2a3f5f"
           }
          },
          "ternary": {
           "aaxis": {
            "gridcolor": "white",
            "linecolor": "white",
            "ticks": ""
           },
           "baxis": {
            "gridcolor": "white",
            "linecolor": "white",
            "ticks": ""
           },
           "bgcolor": "#E5ECF6",
           "caxis": {
            "gridcolor": "white",
            "linecolor": "white",
            "ticks": ""
           }
          },
          "title": {
           "x": 0.05
          },
          "xaxis": {
           "automargin": true,
           "gridcolor": "white",
           "linecolor": "white",
           "ticks": "",
           "title": {
            "standoff": 15
           },
           "zerolinecolor": "white",
           "zerolinewidth": 2
          },
          "yaxis": {
           "automargin": true,
           "gridcolor": "white",
           "linecolor": "white",
           "ticks": "",
           "title": {
            "standoff": 15
           },
           "zerolinecolor": "white",
           "zerolinewidth": 2
          }
         }
        },
        "title": {
         "text": "Matriz de correlación"
        },
        "width": 1200,
        "xaxis": {
         "anchor": "y",
         "constrain": "domain",
         "domain": [
          0,
          1
         ],
         "scaleanchor": "y"
        },
        "yaxis": {
         "anchor": "x",
         "autorange": "reversed",
         "constrain": "domain",
         "domain": [
          0,
          1
         ]
        }
       }
      }
     },
     "metadata": {},
     "output_type": "display_data"
    }
   ],
   "source": [
    "# Heatmap con correlaciones\n",
    "corr = df_encoded.corr()\n",
    "fig = px.imshow(corr, color_continuous_scale='RdBu_r', title='Matriz de correlación')\n",
    "fig.update_layout(width=1200, height=800, plot_bgcolor='white', paper_bgcolor='white') # Fondo blanco y tamaño más grande para el heatmap\n",
    "fig.show()"
   ]
  }
 ],
 "metadata": {
  "kernelspec": {
   "display_name": "base",
   "language": "python",
   "name": "python3"
  },
  "language_info": {
   "codemirror_mode": {
    "name": "ipython",
    "version": 3
   },
   "file_extension": ".py",
   "mimetype": "text/x-python",
   "name": "python",
   "nbconvert_exporter": "python",
   "pygments_lexer": "ipython3",
   "version": "3.7.6"
  },
  "orig_nbformat": 4
 },
 "nbformat": 4,
 "nbformat_minor": 2
}
